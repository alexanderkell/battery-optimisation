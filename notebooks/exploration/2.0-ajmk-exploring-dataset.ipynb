{
 "cells": [
  {
   "cell_type": "code",
   "execution_count": 20,
   "metadata": {},
   "outputs": [],
   "source": [
    "import pandas as pd\n",
    "import seaborn as sns\n",
    "import matplotlib.pyplot as plt\n",
    "\n",
    "from datetime import datetime, timedelta"
   ]
  },
  {
   "cell_type": "code",
   "execution_count": 18,
   "metadata": {},
   "outputs": [],
   "source": [
    "lagged_data = pd.read_csv(\"/Users/alexanderkell/Documents/PhD/Projects/18-battery-optimisation/data/processed/lagged_2012-2013-solar-electricity-data.csv\")\n",
    "lagged_data['datetime'] = pd.to_datetime(lagged_data['datetime'])"
   ]
  },
  {
   "cell_type": "code",
   "execution_count": 33,
   "metadata": {},
   "outputs": [
    {
     "name": "stdout",
     "output_type": "stream",
     "text": [
      "22 gaps with average gap duration: 15 days 05:57:16.363636\n",
      "Start: 2012-02-07 | Duration: 25 days, 0:30:00\n",
      "Start: 2012-03-07 | Duration: 23 days, 0:30:00\n",
      "Start: 2012-04-07 | Duration: 25 days, 0:30:00\n",
      "Start: 2012-05-07 | Duration: 24 days, 0:30:00\n",
      "Start: 2012-06-07 | Duration: 25 days, 0:30:00\n",
      "Start: 2012-07-07 | Duration: 24 days, 0:30:00\n",
      "Start: 2012-08-07 | Duration: 6 days, 0:30:00\n",
      "Start: 2012-09-07 | Duration: 6 days, 0:30:00\n",
      "Start: 2012-10-07 | Duration: 6 days, 0:30:00\n",
      "Start: 2012-11-07 | Duration: 6 days, 0:30:00\n",
      "Start: 2012-12-07 | Duration: 6 days, 0:30:00\n",
      "Start: 2013-01-13 | Duration: 6 days, 0:30:00\n",
      "Start: 2013-02-13 | Duration: 6 days, 0:30:00\n",
      "Start: 2013-03-13 | Duration: 6 days, 0:30:00\n",
      "Start: 2013-04-13 | Duration: 6 days, 0:30:00\n",
      "Start: 2013-05-13 | Duration: 6 days, 0:30:00\n",
      "Start: 2013-06-13 | Duration: 6 days, 0:30:00\n",
      "Start: 2013-08-01 | Duration: 25 days, 0:30:00\n",
      "Start: 2013-09-01 | Duration: 25 days, 0:30:00\n",
      "Start: 2013-10-01 | Duration: 24 days, 0:30:00\n",
      "Start: 2013-11-01 | Duration: 25 days, 0:30:00\n",
      "Start: 2013-12-01 | Duration: 24 days, 0:30:00\n"
     ]
    }
   ],
   "source": [
    "deltas = lagged_data[(lagged_data['Consumption Category']==\"solar_generation\") & (lagged_data['Customer']==3)].sort_values(\"datetime\")['datetime'].diff()\n",
    "\n",
    "gaps = deltas[deltas > timedelta(days=1)]\n",
    "\n",
    "\n",
    "print(f'{len(gaps)} gaps with average gap duration: {gaps.mean()}')\n",
    "for i, g in gaps.iteritems():\n",
    "    gap_start = lagged_data['datetime'][i - 1]\n",
    "    print(f'Start: {datetime.strftime(gap_start, \"%Y-%m-%d\")} | '\n",
    "          f'Duration: {str(g.to_pytimedelta())}')\n",
    "\n"
   ]
  },
  {
   "cell_type": "code",
   "execution_count": 38,
   "metadata": {},
   "outputs": [
    {
     "data": {
      "text/html": [
       "<div>\n",
       "<style scoped>\n",
       "    .dataframe tbody tr th:only-of-type {\n",
       "        vertical-align: middle;\n",
       "    }\n",
       "\n",
       "    .dataframe tbody tr th {\n",
       "        vertical-align: top;\n",
       "    }\n",
       "\n",
       "    .dataframe thead th {\n",
       "        text-align: right;\n",
       "    }\n",
       "</style>\n",
       "<table border=\"1\" class=\"dataframe\">\n",
       "  <thead>\n",
       "    <tr style=\"text-align: right;\">\n",
       "      <th></th>\n",
       "      <th>Unnamed: 0</th>\n",
       "      <th>Customer</th>\n",
       "      <th>Generator Capacity</th>\n",
       "      <th>Postcode</th>\n",
       "      <th>Consumption Category</th>\n",
       "      <th>date</th>\n",
       "      <th>time</th>\n",
       "      <th>consumption</th>\n",
       "      <th>datetime</th>\n",
       "    </tr>\n",
       "  </thead>\n",
       "  <tbody>\n",
       "    <tr>\n",
       "      <th>0</th>\n",
       "      <td>0</td>\n",
       "      <td>1</td>\n",
       "      <td>3.78</td>\n",
       "      <td>2076</td>\n",
       "      <td>controlled_load_consumption</td>\n",
       "      <td>1/07/2012</td>\n",
       "      <td>0:30</td>\n",
       "      <td>1.250</td>\n",
       "      <td>2012-01-07 00:30:00</td>\n",
       "    </tr>\n",
       "    <tr>\n",
       "      <th>1</th>\n",
       "      <td>1</td>\n",
       "      <td>1</td>\n",
       "      <td>3.78</td>\n",
       "      <td>2076</td>\n",
       "      <td>general_electricity_consumption</td>\n",
       "      <td>1/07/2012</td>\n",
       "      <td>0:30</td>\n",
       "      <td>0.855</td>\n",
       "      <td>2012-01-07 00:30:00</td>\n",
       "    </tr>\n",
       "    <tr>\n",
       "      <th>2</th>\n",
       "      <td>2</td>\n",
       "      <td>1</td>\n",
       "      <td>3.78</td>\n",
       "      <td>2076</td>\n",
       "      <td>solar_generation</td>\n",
       "      <td>1/07/2012</td>\n",
       "      <td>0:30</td>\n",
       "      <td>0.000</td>\n",
       "      <td>2012-01-07 00:30:00</td>\n",
       "    </tr>\n",
       "    <tr>\n",
       "      <th>3</th>\n",
       "      <td>3</td>\n",
       "      <td>1</td>\n",
       "      <td>3.78</td>\n",
       "      <td>2076</td>\n",
       "      <td>controlled_load_consumption</td>\n",
       "      <td>2/07/2012</td>\n",
       "      <td>0:30</td>\n",
       "      <td>1.250</td>\n",
       "      <td>2012-02-07 00:30:00</td>\n",
       "    </tr>\n",
       "    <tr>\n",
       "      <th>4</th>\n",
       "      <td>4</td>\n",
       "      <td>1</td>\n",
       "      <td>3.78</td>\n",
       "      <td>2076</td>\n",
       "      <td>general_electricity_consumption</td>\n",
       "      <td>2/07/2012</td>\n",
       "      <td>0:30</td>\n",
       "      <td>0.309</td>\n",
       "      <td>2012-02-07 00:30:00</td>\n",
       "    </tr>\n",
       "  </tbody>\n",
       "</table>\n",
       "</div>"
      ],
      "text/plain": [
       "   Unnamed: 0  Customer  Generator Capacity  Postcode  \\\n",
       "0           0         1                3.78      2076   \n",
       "1           1         1                3.78      2076   \n",
       "2           2         1                3.78      2076   \n",
       "3           3         1                3.78      2076   \n",
       "4           4         1                3.78      2076   \n",
       "\n",
       "              Consumption Category       date  time  consumption  \\\n",
       "0      controlled_load_consumption  1/07/2012  0:30        1.250   \n",
       "1  general_electricity_consumption  1/07/2012  0:30        0.855   \n",
       "2                 solar_generation  1/07/2012  0:30        0.000   \n",
       "3      controlled_load_consumption  2/07/2012  0:30        1.250   \n",
       "4  general_electricity_consumption  2/07/2012  0:30        0.309   \n",
       "\n",
       "             datetime  \n",
       "0 2012-01-07 00:30:00  \n",
       "1 2012-01-07 00:30:00  \n",
       "2 2012-01-07 00:30:00  \n",
       "3 2012-02-07 00:30:00  \n",
       "4 2012-02-07 00:30:00  "
      ]
     },
     "execution_count": 38,
     "metadata": {},
     "output_type": "execute_result"
    }
   ],
   "source": [
    "data = pd.read_csv(\"/Users/alexanderkell/Documents/PhD/Projects/18-battery-optimisation/data/processed/2012-2013-solar-electricity-data.csv\")\n",
    "data['datetime'] = pd.to_datetime(data['datetime'])\n",
    "data.head()"
   ]
  },
  {
   "cell_type": "code",
   "execution_count": 42,
   "metadata": {},
   "outputs": [
    {
     "name": "stdout",
     "output_type": "stream",
     "text": [
      "22 gaps with average gap duration: 15 days 05:57:16.363636\n",
      "Start: 2012-02-07 | Duration: 25 days, 0:30:00\n",
      "Start: 2012-03-07 | Duration: 23 days, 0:30:00\n",
      "Start: 2012-04-07 | Duration: 25 days, 0:30:00\n",
      "Start: 2012-05-07 | Duration: 24 days, 0:30:00\n",
      "Start: 2012-06-07 | Duration: 25 days, 0:30:00\n",
      "Start: 2012-07-07 | Duration: 24 days, 0:30:00\n",
      "Start: 2012-08-07 | Duration: 6 days, 0:30:00\n",
      "Start: 2012-09-07 | Duration: 6 days, 0:30:00\n",
      "Start: 2012-10-07 | Duration: 6 days, 0:30:00\n",
      "Start: 2012-11-07 | Duration: 6 days, 0:30:00\n",
      "Start: 2012-12-07 | Duration: 6 days, 0:30:00\n",
      "Start: 2013-01-13 | Duration: 6 days, 0:30:00\n",
      "Start: 2013-02-13 | Duration: 6 days, 0:30:00\n",
      "Start: 2013-03-13 | Duration: 6 days, 0:30:00\n",
      "Start: 2013-04-13 | Duration: 6 days, 0:30:00\n",
      "Start: 2013-05-13 | Duration: 6 days, 0:30:00\n",
      "Start: 2013-06-13 | Duration: 6 days, 0:30:00\n",
      "Start: 2013-08-01 | Duration: 25 days, 0:30:00\n",
      "Start: 2013-09-01 | Duration: 25 days, 0:30:00\n",
      "Start: 2013-10-01 | Duration: 24 days, 0:30:00\n",
      "Start: 2013-11-01 | Duration: 25 days, 0:30:00\n",
      "Start: 2013-12-01 | Duration: 24 days, 0:30:00\n"
     ]
    }
   ],
   "source": [
    "deltas = data[data['Consumption Category'] == \"solar_generation\"].sort_values(\"datetime\")['datetime'].diff()\n",
    "gaps = deltas[deltas > timedelta(days=1)]\n",
    "\n",
    "print(f'{len(gaps)} gaps with average gap duration: {gaps.mean()}')\n",
    "for i, g in gaps.iteritems():\n",
    "    gap_start = data['datetime'][i - 1]\n",
    "    print(f'Start: {datetime.strftime(gap_start, \"%Y-%m-%d\")} | '\n",
    "          f'Duration: {str(g.to_pytimedelta())}')"
   ]
  }
 ],
 "metadata": {
  "kernelspec": {
   "display_name": "Python 3",
   "language": "python",
   "name": "python3"
  },
  "language_info": {
   "codemirror_mode": {
    "name": "ipython",
    "version": 3
   },
   "file_extension": ".py",
   "mimetype": "text/x-python",
   "name": "python",
   "nbconvert_exporter": "python",
   "pygments_lexer": "ipython3",
   "version": "3.6.6"
  }
 },
 "nbformat": 4,
 "nbformat_minor": 2
}
