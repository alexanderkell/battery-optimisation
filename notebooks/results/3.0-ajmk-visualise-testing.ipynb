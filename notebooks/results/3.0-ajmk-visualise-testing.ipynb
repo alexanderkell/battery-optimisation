{
 "cells": [
  {
   "cell_type": "code",
   "execution_count": 8,
   "metadata": {},
   "outputs": [
    {
     "name": "stdout",
     "output_type": "stream",
     "text": [
      "Requirement already satisfied: pickle5 in /Users/alexanderkell/.pyenv/versions/3.6.6/Python.framework/Versions/3.6/lib/python3.6/site-packages (0.0.11)\r\n"
     ]
    }
   ],
   "source": [
    "!pip3 install pickle5\n",
    "import pandas as pd\n",
    "import seaborn as sns\n",
    "import pickle5 as pickle\n",
    "import matplotlib.pyplot as plt"
   ]
  },
  {
   "cell_type": "code",
   "execution_count": 2,
   "metadata": {},
   "outputs": [
    {
     "data": {
      "text/plain": [
       "{'battery_size': ['1.4',\n",
       "  '1.8',\n",
       "  '0.4',\n",
       "  '1',\n",
       "  '0.8',\n",
       "  '0.2',\n",
       "  '1.6',\n",
       "  '0.6',\n",
       "  '2.0',\n",
       "  '1.2'],\n",
       " 'reward': [b'Episode #1: reward: -6.164763088034473\\nEpisode #2: reward: -6.164763088034473\\n',\n",
       "  b'Episode #1: reward: -0.7910171171518718\\nEpisode #2: reward: -0.7910171171518718\\n',\n",
       "  b'Episode #1: reward: -106.84945624382316\\nEpisode #2: reward: -106.84945624382316\\n',\n",
       "  b'Episode #1: reward: -12.315391627729484\\nEpisode #2: reward: -12.315391627729484\\n',\n",
       "  b'Episode #1: reward: -36.88422987905242\\nEpisode #2: reward: -36.88422987905242\\n',\n",
       "  b'Episode #1: reward: -134.1237483637055\\nEpisode #2: reward: -134.1237483637055\\n',\n",
       "  b'Episode #1: reward: -1.1126438912521561\\nEpisode #2: reward: -1.1126438912521561\\n',\n",
       "  b'Episode #1: reward: -42.97032083394348\\nEpisode #2: reward: -42.97032083394348\\n',\n",
       "  b'Episode #1: reward: -0.17817342504575853\\nEpisode #2: reward: -0.17817342504575853\\n',\n",
       "  b'Episode #1: reward: -10.629741671847809\\nEpisode #2: reward: -10.629741671847809\\n'],\n",
       " 'directory': ['/Users/alexanderkell/Documents/PhD/Projects/18-battery-optimisation/data/models/DDPG_BatteryEnv_46521_00006_6_battery_size=1.4,lr=0.01_2021-03-30_10-35-33/checkpoint_30/checkpoint-30',\n",
       "  '/Users/alexanderkell/Documents/PhD/Projects/18-battery-optimisation/data/models/DDPG_BatteryEnv_46521_00008_8_battery_size=1.8,lr=0.01_2021-03-30_12-26-56/checkpoint_30/checkpoint-30',\n",
       "  '/Users/alexanderkell/Documents/PhD/Projects/18-battery-optimisation/data/models/DDPG_BatteryEnv_46521_00001_1_battery_size=0.4,lr=0.01_2021-03-30_10-35-33/checkpoint_30/checkpoint-30',\n",
       "  '/Users/alexanderkell/Documents/PhD/Projects/18-battery-optimisation/data/models/DDPG_BatteryEnv_46521_00004_4_battery_size=1,lr=0.01_2021-03-30_10-35-33/checkpoint_30/checkpoint-30',\n",
       "  '/Users/alexanderkell/Documents/PhD/Projects/18-battery-optimisation/data/models/DDPG_BatteryEnv_46521_00003_3_battery_size=0.8,lr=0.01_2021-03-30_10-35-33/checkpoint_30/checkpoint-30',\n",
       "  '/Users/alexanderkell/Documents/PhD/Projects/18-battery-optimisation/data/models/DDPG_BatteryEnv_46521_00000_0_battery_size=0.2,lr=0.01_2021-03-30_10-35-33/checkpoint_30/checkpoint-30',\n",
       "  '/Users/alexanderkell/Documents/PhD/Projects/18-battery-optimisation/data/models/DDPG_BatteryEnv_46521_00007_7_battery_size=1.6,lr=0.01_2021-03-30_10-35-33/checkpoint_30/checkpoint-30',\n",
       "  '/Users/alexanderkell/Documents/PhD/Projects/18-battery-optimisation/data/models/DDPG_BatteryEnv_46521_00002_2_battery_size=0.6,lr=0.01_2021-03-30_10-35-33/checkpoint_30/checkpoint-30',\n",
       "  '/Users/alexanderkell/Documents/PhD/Projects/18-battery-optimisation/data/models/DDPG_BatteryEnv_46521_00009_9_battery_size=2.0,lr=0.01_2021-03-30_12-27-01/checkpoint_30/checkpoint-30',\n",
       "  '/Users/alexanderkell/Documents/PhD/Projects/18-battery-optimisation/data/models/DDPG_BatteryEnv_46521_00005_5_battery_size=1.2,lr=0.01_2021-03-30_10-35-33/checkpoint_30/checkpoint-30']}"
      ]
     },
     "execution_count": 2,
     "metadata": {},
     "output_type": "execute_result"
    }
   ],
   "source": [
    "reward_dict = pickle.load(open( \"/Users/alexanderkell/Documents/PhD/Projects/18-battery-optimisation/data/results/testing/rewards.pickle\", \"rb\" ))\n",
    "reward_dict"
   ]
  },
  {
   "cell_type": "code",
   "execution_count": 3,
   "metadata": {},
   "outputs": [
    {
     "data": {
      "text/plain": [
       "{'battery_size': ['1.4',\n",
       "  '1.8',\n",
       "  '0.4',\n",
       "  '1',\n",
       "  '0.8',\n",
       "  '0.2',\n",
       "  '1.6',\n",
       "  '0.6',\n",
       "  '2.0',\n",
       "  '1.2'],\n",
       " 'reward': [-6.164763088034473,\n",
       "  -0.7910171171518718,\n",
       "  -106.84945624382316,\n",
       "  -12.315391627729484,\n",
       "  -36.88422987905242,\n",
       "  -134.1237483637055,\n",
       "  -1.1126438912521561,\n",
       "  -42.97032083394348,\n",
       "  -0.17817342504575853,\n",
       "  -10.629741671847809],\n",
       " 'directory': ['/Users/alexanderkell/Documents/PhD/Projects/18-battery-optimisation/data/models/DDPG_BatteryEnv_46521_00006_6_battery_size=1.4,lr=0.01_2021-03-30_10-35-33/checkpoint_30/checkpoint-30',\n",
       "  '/Users/alexanderkell/Documents/PhD/Projects/18-battery-optimisation/data/models/DDPG_BatteryEnv_46521_00008_8_battery_size=1.8,lr=0.01_2021-03-30_12-26-56/checkpoint_30/checkpoint-30',\n",
       "  '/Users/alexanderkell/Documents/PhD/Projects/18-battery-optimisation/data/models/DDPG_BatteryEnv_46521_00001_1_battery_size=0.4,lr=0.01_2021-03-30_10-35-33/checkpoint_30/checkpoint-30',\n",
       "  '/Users/alexanderkell/Documents/PhD/Projects/18-battery-optimisation/data/models/DDPG_BatteryEnv_46521_00004_4_battery_size=1,lr=0.01_2021-03-30_10-35-33/checkpoint_30/checkpoint-30',\n",
       "  '/Users/alexanderkell/Documents/PhD/Projects/18-battery-optimisation/data/models/DDPG_BatteryEnv_46521_00003_3_battery_size=0.8,lr=0.01_2021-03-30_10-35-33/checkpoint_30/checkpoint-30',\n",
       "  '/Users/alexanderkell/Documents/PhD/Projects/18-battery-optimisation/data/models/DDPG_BatteryEnv_46521_00000_0_battery_size=0.2,lr=0.01_2021-03-30_10-35-33/checkpoint_30/checkpoint-30',\n",
       "  '/Users/alexanderkell/Documents/PhD/Projects/18-battery-optimisation/data/models/DDPG_BatteryEnv_46521_00007_7_battery_size=1.6,lr=0.01_2021-03-30_10-35-33/checkpoint_30/checkpoint-30',\n",
       "  '/Users/alexanderkell/Documents/PhD/Projects/18-battery-optimisation/data/models/DDPG_BatteryEnv_46521_00002_2_battery_size=0.6,lr=0.01_2021-03-30_10-35-33/checkpoint_30/checkpoint-30',\n",
       "  '/Users/alexanderkell/Documents/PhD/Projects/18-battery-optimisation/data/models/DDPG_BatteryEnv_46521_00009_9_battery_size=2.0,lr=0.01_2021-03-30_12-27-01/checkpoint_30/checkpoint-30',\n",
       "  '/Users/alexanderkell/Documents/PhD/Projects/18-battery-optimisation/data/models/DDPG_BatteryEnv_46521_00005_5_battery_size=1.2,lr=0.01_2021-03-30_10-35-33/checkpoint_30/checkpoint-30']}"
      ]
     },
     "execution_count": 3,
     "metadata": {},
     "output_type": "execute_result"
    }
   ],
   "source": [
    "reward_dict['reward'] = [float(elem.decode(\"utf-8\").split(\"reward: \")[1].split(\"\\n\")[0]) for elem in reward_dict['reward']]\n",
    "reward_dict"
   ]
  },
  {
   "cell_type": "code",
   "execution_count": 4,
   "metadata": {},
   "outputs": [
    {
     "data": {
      "text/html": [
       "<div>\n",
       "<style scoped>\n",
       "    .dataframe tbody tr th:only-of-type {\n",
       "        vertical-align: middle;\n",
       "    }\n",
       "\n",
       "    .dataframe tbody tr th {\n",
       "        vertical-align: top;\n",
       "    }\n",
       "\n",
       "    .dataframe thead th {\n",
       "        text-align: right;\n",
       "    }\n",
       "</style>\n",
       "<table border=\"1\" class=\"dataframe\">\n",
       "  <thead>\n",
       "    <tr style=\"text-align: right;\">\n",
       "      <th></th>\n",
       "      <th>battery_size</th>\n",
       "      <th>reward</th>\n",
       "      <th>directory</th>\n",
       "    </tr>\n",
       "  </thead>\n",
       "  <tbody>\n",
       "    <tr>\n",
       "      <th>0</th>\n",
       "      <td>1.4</td>\n",
       "      <td>-6.164763</td>\n",
       "      <td>/Users/alexanderkell/Documents/PhD/Projects/18...</td>\n",
       "    </tr>\n",
       "    <tr>\n",
       "      <th>1</th>\n",
       "      <td>1.8</td>\n",
       "      <td>-0.791017</td>\n",
       "      <td>/Users/alexanderkell/Documents/PhD/Projects/18...</td>\n",
       "    </tr>\n",
       "    <tr>\n",
       "      <th>2</th>\n",
       "      <td>0.4</td>\n",
       "      <td>-106.849456</td>\n",
       "      <td>/Users/alexanderkell/Documents/PhD/Projects/18...</td>\n",
       "    </tr>\n",
       "    <tr>\n",
       "      <th>3</th>\n",
       "      <td>1</td>\n",
       "      <td>-12.315392</td>\n",
       "      <td>/Users/alexanderkell/Documents/PhD/Projects/18...</td>\n",
       "    </tr>\n",
       "    <tr>\n",
       "      <th>4</th>\n",
       "      <td>0.8</td>\n",
       "      <td>-36.884230</td>\n",
       "      <td>/Users/alexanderkell/Documents/PhD/Projects/18...</td>\n",
       "    </tr>\n",
       "    <tr>\n",
       "      <th>5</th>\n",
       "      <td>0.2</td>\n",
       "      <td>-134.123748</td>\n",
       "      <td>/Users/alexanderkell/Documents/PhD/Projects/18...</td>\n",
       "    </tr>\n",
       "    <tr>\n",
       "      <th>6</th>\n",
       "      <td>1.6</td>\n",
       "      <td>-1.112644</td>\n",
       "      <td>/Users/alexanderkell/Documents/PhD/Projects/18...</td>\n",
       "    </tr>\n",
       "    <tr>\n",
       "      <th>7</th>\n",
       "      <td>0.6</td>\n",
       "      <td>-42.970321</td>\n",
       "      <td>/Users/alexanderkell/Documents/PhD/Projects/18...</td>\n",
       "    </tr>\n",
       "    <tr>\n",
       "      <th>8</th>\n",
       "      <td>2.0</td>\n",
       "      <td>-0.178173</td>\n",
       "      <td>/Users/alexanderkell/Documents/PhD/Projects/18...</td>\n",
       "    </tr>\n",
       "    <tr>\n",
       "      <th>9</th>\n",
       "      <td>1.2</td>\n",
       "      <td>-10.629742</td>\n",
       "      <td>/Users/alexanderkell/Documents/PhD/Projects/18...</td>\n",
       "    </tr>\n",
       "  </tbody>\n",
       "</table>\n",
       "</div>"
      ],
      "text/plain": [
       "  battery_size      reward                                          directory\n",
       "0          1.4   -6.164763  /Users/alexanderkell/Documents/PhD/Projects/18...\n",
       "1          1.8   -0.791017  /Users/alexanderkell/Documents/PhD/Projects/18...\n",
       "2          0.4 -106.849456  /Users/alexanderkell/Documents/PhD/Projects/18...\n",
       "3            1  -12.315392  /Users/alexanderkell/Documents/PhD/Projects/18...\n",
       "4          0.8  -36.884230  /Users/alexanderkell/Documents/PhD/Projects/18...\n",
       "5          0.2 -134.123748  /Users/alexanderkell/Documents/PhD/Projects/18...\n",
       "6          1.6   -1.112644  /Users/alexanderkell/Documents/PhD/Projects/18...\n",
       "7          0.6  -42.970321  /Users/alexanderkell/Documents/PhD/Projects/18...\n",
       "8          2.0   -0.178173  /Users/alexanderkell/Documents/PhD/Projects/18...\n",
       "9          1.2  -10.629742  /Users/alexanderkell/Documents/PhD/Projects/18..."
      ]
     },
     "execution_count": 4,
     "metadata": {},
     "output_type": "execute_result"
    }
   ],
   "source": [
    "rewards = pd.DataFrame.from_dict(reward_dict)\n",
    "rewards"
   ]
  },
  {
   "cell_type": "code",
   "execution_count": 5,
   "metadata": {},
   "outputs": [
    {
     "data": {
      "text/html": [
       "<div>\n",
       "<style scoped>\n",
       "    .dataframe tbody tr th:only-of-type {\n",
       "        vertical-align: middle;\n",
       "    }\n",
       "\n",
       "    .dataframe tbody tr th {\n",
       "        vertical-align: top;\n",
       "    }\n",
       "\n",
       "    .dataframe thead th {\n",
       "        text-align: right;\n",
       "    }\n",
       "</style>\n",
       "<table border=\"1\" class=\"dataframe\">\n",
       "  <thead>\n",
       "    <tr style=\"text-align: right;\">\n",
       "      <th></th>\n",
       "      <th>battery_size</th>\n",
       "      <th>reward</th>\n",
       "      <th>directory</th>\n",
       "    </tr>\n",
       "  </thead>\n",
       "  <tbody>\n",
       "    <tr>\n",
       "      <th>0</th>\n",
       "      <td>1.4</td>\n",
       "      <td>-6.164763</td>\n",
       "      <td>/Users/alexanderkell/Documents/PhD/Projects/18...</td>\n",
       "    </tr>\n",
       "    <tr>\n",
       "      <th>1</th>\n",
       "      <td>1.8</td>\n",
       "      <td>-0.791017</td>\n",
       "      <td>/Users/alexanderkell/Documents/PhD/Projects/18...</td>\n",
       "    </tr>\n",
       "    <tr>\n",
       "      <th>2</th>\n",
       "      <td>0.4</td>\n",
       "      <td>-106.849456</td>\n",
       "      <td>/Users/alexanderkell/Documents/PhD/Projects/18...</td>\n",
       "    </tr>\n",
       "    <tr>\n",
       "      <th>3</th>\n",
       "      <td>1.0</td>\n",
       "      <td>-12.315392</td>\n",
       "      <td>/Users/alexanderkell/Documents/PhD/Projects/18...</td>\n",
       "    </tr>\n",
       "    <tr>\n",
       "      <th>4</th>\n",
       "      <td>0.8</td>\n",
       "      <td>-36.884230</td>\n",
       "      <td>/Users/alexanderkell/Documents/PhD/Projects/18...</td>\n",
       "    </tr>\n",
       "    <tr>\n",
       "      <th>5</th>\n",
       "      <td>0.2</td>\n",
       "      <td>-134.123748</td>\n",
       "      <td>/Users/alexanderkell/Documents/PhD/Projects/18...</td>\n",
       "    </tr>\n",
       "    <tr>\n",
       "      <th>6</th>\n",
       "      <td>1.6</td>\n",
       "      <td>-1.112644</td>\n",
       "      <td>/Users/alexanderkell/Documents/PhD/Projects/18...</td>\n",
       "    </tr>\n",
       "    <tr>\n",
       "      <th>7</th>\n",
       "      <td>0.6</td>\n",
       "      <td>-42.970321</td>\n",
       "      <td>/Users/alexanderkell/Documents/PhD/Projects/18...</td>\n",
       "    </tr>\n",
       "    <tr>\n",
       "      <th>8</th>\n",
       "      <td>2.0</td>\n",
       "      <td>-0.178173</td>\n",
       "      <td>/Users/alexanderkell/Documents/PhD/Projects/18...</td>\n",
       "    </tr>\n",
       "    <tr>\n",
       "      <th>9</th>\n",
       "      <td>1.2</td>\n",
       "      <td>-10.629742</td>\n",
       "      <td>/Users/alexanderkell/Documents/PhD/Projects/18...</td>\n",
       "    </tr>\n",
       "  </tbody>\n",
       "</table>\n",
       "</div>"
      ],
      "text/plain": [
       "   battery_size      reward                                          directory\n",
       "0           1.4   -6.164763  /Users/alexanderkell/Documents/PhD/Projects/18...\n",
       "1           1.8   -0.791017  /Users/alexanderkell/Documents/PhD/Projects/18...\n",
       "2           0.4 -106.849456  /Users/alexanderkell/Documents/PhD/Projects/18...\n",
       "3           1.0  -12.315392  /Users/alexanderkell/Documents/PhD/Projects/18...\n",
       "4           0.8  -36.884230  /Users/alexanderkell/Documents/PhD/Projects/18...\n",
       "5           0.2 -134.123748  /Users/alexanderkell/Documents/PhD/Projects/18...\n",
       "6           1.6   -1.112644  /Users/alexanderkell/Documents/PhD/Projects/18...\n",
       "7           0.6  -42.970321  /Users/alexanderkell/Documents/PhD/Projects/18...\n",
       "8           2.0   -0.178173  /Users/alexanderkell/Documents/PhD/Projects/18...\n",
       "9           1.2  -10.629742  /Users/alexanderkell/Documents/PhD/Projects/18..."
      ]
     },
     "execution_count": 5,
     "metadata": {},
     "output_type": "execute_result"
    }
   ],
   "source": [
    "rewards['battery_size'] = pd.to_numeric(rewards['battery_size'])\n",
    "rewards"
   ]
  },
  {
   "cell_type": "code",
   "execution_count": 9,
   "metadata": {},
   "outputs": [
    {
     "data": {
      "text/plain": [
       "Text(0.5, 1.0, 'Testing reward versus battery size')"
      ]
     },
     "execution_count": 9,
     "metadata": {},
     "output_type": "execute_result"
    },
    {
     "data": {
      "image/png": "[encoded data removed]",
      "text/plain": [
       "<Figure size 432x288 with 1 Axes>"
      ]
     },
     "metadata": {
      "needs_background": "light"
     },
     "output_type": "display_data"
    }
   ],
   "source": [
    "sns.barplot(data=rewards, x=\"battery_size\", y=\"reward\")\n",
    "plt.title(\"Testing reward versus battery size\")"
   ]
  },
  {
   "cell_type": "code",
   "execution_count": 12,
   "metadata": {},
   "outputs": [
    {
     "data": {
      "image/png": "[encoded data removed]",
      "text/plain": [
       "<Figure size 432x288 with 1 Axes>"
      ]
     },
     "metadata": {
      "needs_background": "light"
     },
     "output_type": "display_data"
    }
   ],
   "source": [
    "g = sns.barplot(data=rewards, x=\"battery_size\", y=\"reward\")\n",
    "plt.title(\"Testing reward versus battery size\")\n",
    "g.set_yscale(\"symlog\")"
   ]
  }
 ],
 "metadata": {
  "kernelspec": {
   "display_name": "Python 3",
   "language": "python",
   "name": "python3"
  },
  "language_info": {
   "codemirror_mode": {
    "name": "ipython",
    "version": 3
   },
   "file_extension": ".py",
   "mimetype": "text/x-python",
   "name": "python",
   "nbconvert_exporter": "python",
   "pygments_lexer": "ipython3",
   "version": "3.6.6"
  }
 },
 "nbformat": 4,
 "nbformat_minor": 2
}
